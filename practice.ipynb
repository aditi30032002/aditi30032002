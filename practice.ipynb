{
  "nbformat": 4,
  "nbformat_minor": 0,
  "metadata": {
    "colab": {
      "name": "Untitled0.ipynb",
      "provenance": [],
      "collapsed_sections": [],
      "authorship_tag": "ABX9TyPjMasvYY3P0c/ftMira8n/",
      "include_colab_link": true
    },
    "kernelspec": {
      "name": "python3",
      "display_name": "Python 3"
    },
    "language_info": {
      "name": "python"
    }
  },
  "cells": [
    {
      "cell_type": "markdown",
      "metadata": {
        "id": "view-in-github",
        "colab_type": "text"
      },
      "source": [
        "<a href=\"https://colab.research.google.com/github/aditi30032002/aditi30032002/blob/main/practice.ipynb\" target=\"_parent\"><img src=\"https://colab.research.google.com/assets/colab-badge.svg\" alt=\"Open In Colab\"/></a>"
      ]
    },
    {
      "cell_type": "code",
      "execution_count": 1,
      "metadata": {
        "colab": {
          "base_uri": "https://localhost:8080/"
        },
        "id": "tSpITtN6b8WG",
        "outputId": "baf41315-8933-4bd3-e583-e0cd2a21cb02"
      },
      "outputs": [
        {
          "output_type": "stream",
          "name": "stdout",
          "text": [
            "hello world\n"
          ]
        }
      ],
      "source": [
        "print(\"hello world\")"
      ]
    },
    {
      "cell_type": "code",
      "source": [
        "a=8 \n",
        "print(a)"
      ],
      "metadata": {
        "colab": {
          "base_uri": "https://localhost:8080/"
        },
        "id": "5mz0kf8Gcf7g",
        "outputId": "112b6806-7b99-46c6-b9f2-1215340f45b1"
      },
      "execution_count": 2,
      "outputs": [
        {
          "output_type": "stream",
          "name": "stdout",
          "text": [
            "8\n"
          ]
        }
      ]
    },
    {
      "cell_type": "code",
      "source": [
        "#initialize a variable with an integer value \n",
        "var = 8\n",
        "print(var)"
      ],
      "metadata": {
        "colab": {
          "base_uri": "https://localhost:8080/"
        },
        "id": "D3q53cv8ddV3",
        "outputId": "1c168df1-ba41-4c0e-c520-65d4a9702c19"
      },
      "execution_count": 4,
      "outputs": [
        {
          "output_type": "stream",
          "name": "stdout",
          "text": [
            "8\n"
          ]
        }
      ]
    },
    {
      "cell_type": "code",
      "source": [
        "#Assign a boolean value\n",
        "var='True'\n",
        "print(var)"
      ],
      "metadata": {
        "colab": {
          "base_uri": "https://localhost:8080/"
        },
        "id": "_-wFF-B4df5x",
        "outputId": "22acfe0a-2311-46e6-8467-dfb3a5cc2f9a"
      },
      "execution_count": 5,
      "outputs": [
        {
          "output_type": "stream",
          "name": "stdout",
          "text": [
            "True\n"
          ]
        }
      ]
    },
    {
      "cell_type": "code",
      "source": [
        "#assign a float value\n",
        "var= 3.415\n",
        "print(var)"
      ],
      "metadata": {
        "colab": {
          "base_uri": "https://localhost:8080/"
        },
        "id": "9epGpXNded8R",
        "outputId": "64364a1e-8eb0-4882-e0d3-553920605082"
      },
      "execution_count": 6,
      "outputs": [
        {
          "output_type": "stream",
          "name": "stdout",
          "text": [
            "3.415\n"
          ]
        }
      ]
    },
    {
      "cell_type": "code",
      "source": [
        "#assign a string value\n",
        "var= 'python in steps'\n",
        "print(var)"
      ],
      "metadata": {
        "colab": {
          "base_uri": "https://localhost:8080/"
        },
        "id": "PRgqSkVleedY",
        "outputId": "d24a5457-7bc3-4275-fb9f-fc8282701480"
      },
      "execution_count": 9,
      "outputs": [
        {
          "output_type": "stream",
          "name": "stdout",
          "text": [
            "python in steps\n"
          ]
        }
      ]
    },
    {
      "cell_type": "code",
      "source": [
        "#Initialize a variable with a user defined value\n",
        "user = input('I am python. what is your name?')\n",
        "\n",
        "#output a string and a variable value\n",
        "print('welcome' , user)\n",
        "\n",
        "#Initialize another variable with user-defined value\n",
        "lang =input('Favorite programming language')\n",
        "\n",
        "#Output a string and a variable value\n",
        "print(lang, 'is', 'fun', sep='*', end= '!\\n')"
      ],
      "metadata": {
        "colab": {
          "base_uri": "https://localhost:8080/"
        },
        "id": "SMLvfAGEeeu-",
        "outputId": "b9ac31b0-6791-4031-adc4-ec89d3e71fca"
      },
      "execution_count": 14,
      "outputs": [
        {
          "output_type": "stream",
          "name": "stdout",
          "text": [
            "I am python. what is your name?aditi\n",
            "welcome aditi\n",
            "Favorite programming languagepython\n",
            "python*is*fun!\n"
          ]
        }
      ]
    },
    {
      "cell_type": "code",
      "source": [
        "user = input('Hello vistor, I am aditi. what is your name?')\n",
        "print('welcome' , user)\n",
        "lang =input('favorite coding langauage')\n",
        "print(lang, 'sounds', 'good', sep='*', end='!\\n')"
      ],
      "metadata": {
        "colab": {
          "base_uri": "https://localhost:8080/"
        },
        "id": "JQnalYXHefHa",
        "outputId": "b5215141-7d8a-46cd-a192-87e83aa65e05"
      },
      "execution_count": 15,
      "outputs": [
        {
          "output_type": "stream",
          "name": "stdout",
          "text": [
            "Hello vistor, I am aditi. what is your name?a\n",
            "welcome a\n",
            "favorite coding langauagejava\n",
            "java*sounds*good!\n"
          ]
        }
      ]
    }
  ]
}